{
 "cells": [
  {
   "attachments": {},
   "cell_type": "markdown",
   "id": "96803456-e6a7-4ce3-a96b-1a73d89af381",
   "metadata": {},
   "source": [
    "# Basic Python Syntax\n",
    "\n",
    "Now that you know how to use your interpreter, let's dive-in and start learning Python.\n",
    "\n",
    "In all of the sections in this step, please take a minute to experiment with the Python syntax in your interactive shell.  You aren't going to break anything _(probably)_, and getting your hands on the syntax is the best way to learn it and get comfortable with it.  Don't feel like you have to type in any of our examples verbatim - try your own.  See what works and what doesn't - you'll learn from both.\n",
    "\n",
    "## Basic data types\n",
    "\n",
    "| Python </br> `type()` | Values                    |\n",
    "|:----------------------|:--------------------------|\n",
    "| `int`                 | -128, 0, 42               |\n",
    "| `float`               | -1.12, 0, 3.14159         |\n",
    "| `bool`                | True, False               |\n",
    "| `str`                 | \"Hello 😎\"                |\n",
    "| `bytes`               | b\"Hello \\xf0\\x9f\\x98\\x8e\" |"
   ]
  },
  {
   "cell_type": "code",
   "execution_count": null,
   "id": "f652d8b4-6806-4f25-9f28-9832c4108602",
   "metadata": {
    "tags": []
   },
   "outputs": [],
   "source": [
    " 'KEEPER: \"What is your favorite color?\" GALAHAD: \"Blue. No yel-- Auuuuuuuugh!\"'"
   ]
  },
  {
   "cell_type": "markdown",
   "id": "4a08dbf2-b410-4a46-80ee-dce824a6a928",
   "metadata": {},
   "source": [
    "Without the option to use the other quotation mark style to open and close the string, you would have to `\\` escape all the quotation marks inside the string.\n",
    "\n",
    "_What about the triple quotes?_  These let your string break across lines, and cause the string to include `\\n` newline characters everywhere where there are line breaks in the multiline string - essentially you can write multiline strings just by using the triple opening and closing quotes.\n",
    "\n",
    "> **Note:** A triple-quoted string (`\"\"\"`) at the beginning of a Python file, function, or class has special meaning. These are called docstrings, and they are a great way to document what the Python file, function, or class does and how it should be used.\n",
    "\n",
    "#### String operators\n",
    "\n",
    "Working with strings in Python is easy.\n",
    "\n",
    "Want to put two strings together (concatenate)?  Just add them."
   ]
  },
  {
   "cell_type": "code",
   "execution_count": null,
   "id": "c9fc0ea9-1957-4ad8-9323-1428ef52aee5",
   "metadata": {
   "run_button_label": "Try it out"},
   "outputs": [],
   "source": [
    "\"One\" + \"Two\""
   ]
  },
  {
   "cell_type": "markdown",
   "id": "9a1784d5-bdd2-4c2b-91a7-b62693dbfdc7",
   "metadata": {
    "tags": []
   },
   "source": [
    "> **Note:** This doesn't insert any space between the strings. It simply joins the two strings together into a new string.\n",
    "\n",
    "Weird enough, you can multiply strings. This is actually useful when, for example, you want to repeat a character a certain number of times."
   ]
  },
  {
   "cell_type": "code",
   "execution_count": null,
   "id": "4427cd88-e145-4698-ac48-c9730dd0f38f",
   "metadata": {
   "visibility":"visible"
   },
   "outputs": [],
   "source": [
    "\"Abc\" * 3"
   ]
  },
  {
   "cell_type": "markdown",
   "id": "ef08fdcd-0a65-4936-bcb6-a9a2ad5cc4c1",
   "metadata": {
    "tags": []
   },
   "source": [
    "There are also some powerful \"convenience\" methods available with string objects (more on objects later):\n",
    "\n",
    "* `\"{}\".format()`: The `.format()` method lets you insert named or unnamed placeholders `{}` in a string and then use the `.format()` method to insert values into those placeholders.\n",
    "* `\"\".split()`: The `.split()` method lets you split a string into multiple strings using a separator that you provide as the delimiter.\n",
    "* `\"\".join()`: The `.join()` method lets you put a sequence of strings together using, joining them with a separator that you provide.\n",
    "\n",
    "_Examples:_\n"
   ]
  },
  {
   "cell_type": "code",
   "execution_count": null,
   "id": "7c409751-8615-4bb7-b2c1-32adcbb87c94",
   "metadata": {
   "run_button_label": "Get the new string"
   },
   "outputs": [],
   "source": [
    "\"Hi, my name is {}!\".format(\"Chris\")"
   ]
  },
  {
   "cell_type": "code",
   "execution_count": null,
   "id": "ad34bc39-4776-4603-b70a-260fb9575ced",
   "metadata": {
   "run_button_label": "Get the result"    
   },
   "outputs": [],
   "source": [
    "\"Hi, my name is {name}, and I am a {what}!\".format(name=\"Bob\", what=\"coder\")"
   ]
  },
  {
   "cell_type": "code",
   "execution_count": null,
   "id": "3ea3186c-0a2d-44c7-9b10-eef3329076ba",
   "metadata": {
   "run_button_label": "Get the split string"    
   },
   "outputs": [],
   "source": [
    "\"a b c\".split(\" \")"
   ]
  },
  {
   "cell_type": "code",
   "execution_count": null,
   "id": "1bc6f2c8-bfc0-4f2c-be10-e9e97107b04d",
   "metadata": {
   "run_button_label": "Get the joined string"    
   },
   "outputs": [],
   "source": [
    "\",\".join(['a', 'b', 'c'])"
   ]
  },
  {
   "cell_type": "markdown",
   "id": "2f698900-7b1d-4553-908c-3fd4383e58ae",
   "metadata": {},
   "source": [
    "## Defining variables\n",
    "\n",
    "Python is **not** a _strongly typed_ language. That means, unlike some other languages, you don't have to _declare_ a variable before using it. Also, a variable name could point to one type of data one minute and then point to a different type of data another.\n",
    "\n",
    "To define a variable in Python, simply use the assign `=` operator to assign a value to the variable name.\n"
   ]
  },
  {
   "cell_type": "code",
   "execution_count": null,
   "id": "3aa85efe-1eae-4752-98fc-ea27ae3ecce1",
   "metadata": {},
   "outputs": [],
   "source": [
    "a = 3\n",
    "a"
   ]
  },
  {
   "cell_type": "markdown",
   "id": "1caf59d1-030e-428e-90e1-fbd5b68de1ae",
   "metadata": {
    "tags": []
   },
   "source": [
    "> **Note:** In the interactive interpreter, typing a variable name at the prompt and pressing `Enter` displays the current value of the variable. Also note that while this is a valid Python statement, if you only put a variable name on a line in your script, it won't display the output to the user. You have to use the `print()` function in a script to display output to the user (you learn how to do this shortly).\n",
    "\n",
    "### Variable names\n",
    "\n",
    "* Cannot start with a number [0-9]\n",
    "* Cannot conflict with a language keyword\n",
    "* Can contain: [A-Za-z0-9_-]\n",
    "\n",
    "> Recommendations for naming (variables, classes, functions, etc.) can be found in [PEP8](https://www.python.org/dev/peps/pep-0008/).\n",
    "\n",
    "## Everything is an object!\n",
    "\n",
    "In Python everything is an object. What does this mean? Unlike some languages that have different types of data (value types, structures, classes and objects, etc.), in Python everything is an object.\n",
    "\n",
    "_What are objects, and what does this mean for me?_  I'm glad you asked.  Objects _(over simplified explanation)_ are purpose-built groupings of variables (called attributes) and functions (called methods) that work together to do something useful.\n",
    "\n",
    "Creating your own classes of objects in Python is easy, but due to time constraints and the fact that you won't need to create your own classes to complete the labs that depend on this _Python Fundamentals_ module, we aren't going to cover classes here. However, you do need to know how to work with objects - especially since _\"everything is an object\"_.  Fortunately doing so is also straightforward, and you have already seen this in action in the string examples above.\n",
    "\n",
    "**To access the attributes (variables) or methods (functions) contained within an object, all you need to remember is that you use \".\" _dot-syntax_ to do so.** Putting a period (dot) after any object lets you access the attributes and methods available within the object.\n",
    "\n",
    "_Examples:_\n"
   ]
  },
  {
   "cell_type": "code",
   "execution_count": null,
   "id": "7bfcd9ea-2544-4e1e-a331-17019f6c20be",
   "metadata": {},
   "outputs": [],
   "source": [
    "a = 57\n",
    "a.bit_length()"
   ]
  },
  {
   "cell_type": "code",
   "execution_count": null,
   "id": "2eb3a8aa-c1c8-43de-8609-43fcd73d6976",
   "metadata": {},
   "outputs": [],
   "source": [
    "\"WhO wRote THIs?\".lower()"
   ]
  },
  {
   "cell_type": "markdown",
   "id": "34ad0ddc-ded8-4ff6-ac12-9a8693888523",
   "metadata": {},
   "source": [
    "> **Note:** Python is introspective. To look inside an object and see what names (attributes and methods) are defined inside it, just pass the object to the `dir(<object>)` function."
   ]
  }
 ],
 "metadata": {
  "kernelspec": {
   "display_name": "Python 3 (ipykernel)",
   "language": "python",
   "name": "python3"
  },
  "language_info": {
   "codemirror_mode": {
    "name": "ipython",
    "version": 3
   },
   "file_extension": ".py",
   "mimetype": "text/x-python",
   "name": "python",
   "nbconvert_exporter": "python",
   "pygments_lexer": "ipython3",
   "version": "3.9.5"
  }
 },
 "nbformat": 4,
 "nbformat_minor": 5
}
