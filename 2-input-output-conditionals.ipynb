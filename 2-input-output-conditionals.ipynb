{
 "cells": [
  {
   "cell_type": "markdown",
   "id": "dd3eaabe-9ea6-400c-a32b-17b8c1cc4b06",
   "metadata": {},
   "source": [
    "# Input, output, and conditionals\n",
    "\n",
    "In all the sections in this page, please take a minute to experiment with the Python syntax in your interactive interpreter.  Write your own input statements, create some if blocks, define some functions and explore. Your own creativity and getting your fingers on the keyboard is the best way to learn a language's basic syntax.\n",
    "\n",
    "## Getting input\n",
    "\n",
    "Need to prompt the user for some information? Use the `input()` function. It will display your prompt to the user and return their input, which you can assign to a variable."
   ]
  },
  {
   "cell_type": "code",
   "execution_count": null,
   "id": "90bc7f32-e563-4527-8658-e9b586d77e8c",
   "metadata": {},
   "outputs": [],
   "source": [
    "answer = input(\"What is the air-speed velocity of an unladen swallow? \")\n",
    "answer"
   ]
  },
  {
   "cell_type": "markdown",
   "id": "2e297d39-d62c-444d-8258-77d2c4e99d81",
   "metadata": {},
   "source": [
    "> **Note:** The input function always returns a string (`str`) and it doesn't do any sort of validation - that is all up to you.\n",
    "\n",
    "## Displaying output\n",
    "\n",
    "Use the `print()` function to display output to the user. It accepts a variable number of parameters, converts them all to strings (`str`) and then joins them together with a space `\" \"` separator between each of the items.  This is a quick and easy way to combine several items and display the output to the user."
   ]
  },
  {
   "cell_type": "code",
   "execution_count": null,
   "id": "c3d1f008-b50f-4e72-82b4-a9697ea63aa7",
   "metadata": {},
   "outputs": [],
   "source": [
    "coconuts = 2\n",
    "print(\"I have\", coconuts, \"coconuts\")"
   ]
  },
  {
   "cell_type": "markdown",
   "id": "1db353c9-760b-4e87-9e18-b23b2111cc75",
   "metadata": {},
   "source": [
    "## Conditionals\n",
    "\n",
    "With variables comes the possibility (likelihood) that you may not know what they point to, or perhaps you want to branch your code and take different paths based on some condition. That's why we have `if` and `elif` (\"else if\") statements.\n",
    "\n",
    "_**Python `if` syntax:**_"
   ]
  },
  {
   "cell_type": "code",
   "execution_count": null,
   "id": "41c569c0-8df6-4ec3-afde-0ed78f8f09d5",
   "metadata": {},
   "outputs": [],
   "source": [
    "if expression_1:\n",
    "    statements…\n",
    "elif expression_2:\n",
    "    statements…\n",
    "else:\n",
    "    statements…"
   ]
  },
  {
   "cell_type": "markdown",
   "id": "01808977-aa3c-4e4e-81cd-afb1e940ff9e",
   "metadata": {
    "tags": []
   },
   "source": [
    "> **Indentation is important!**  In Python, indentation is syntactically significant. Python uses indentation to identify the block of statements that are associated with a preceding statement. By [PEP8](https://www.python.org/dev/peps/pep-0008/) convention, indentation should be four (4) spaces. Most \"Python aware\" text editors and IDEs will automatically insert four spaces when you press the `Tab` key.\n",
    "\n",
    "The above `if` syntax reads:\n",
    "\n",
    "1. If `expression_1` is `True`, do the following block of indented statements\n",
    "2. Else if `expression_2` is `True`, do the following block of indented statements\n",
    "3. Else do the following block of indented statements\n",
    "\n",
    "> **Note:** In this syntax, the expressions can be any Python expression that evaluates to a `True` or `False` value (see [Python Truth Value Testing](https://docs.python.org/2/library/stdtypes.html#truth-value-testing) for more details).\n",
    "\n",
    "A conditional need not have all of these elements. You could have a single `if` statement, with some set of statements to run if it evaluates to `True`. You could have many else-if `elif` statements. You may only have one default or catch-all `else` statement.\n",
    "\n",
    "> **Note:** Python evaluates the `if` and `elif` statements starting with the first and proceeding to the last. If any of expressions evaluate to `True`, it runs the block of statements associated with that `if`/`elif` clause and then skips the rest of the clauses and continues with the next statement after the if-block.\n",
    "\n",
    "### Comparison operators and logical expressions\n",
    "\n",
    "| Comparison Operator | Meaning                  |\n",
    "|:--------------------|:-------------------------|\n",
    "| <                   | Less Than                |\n",
    "| >                   | Greater Than             |\n",
    "| <=                  | Less Than or Equal To    |\n",
    "| >=                  | Greater Than or Equal To |\n",
    "| ==                  | Equal To                 |\n",
    "| !=                  | Not Equal To             |\n",
    "| in                  | Contains Element         |\n",
    "\n",
    "You can combine expressions with `and` or `or`. Negate an expression with `not`.\n",
    "\n",
    "_Example:_"
   ]
  },
  {
   "cell_type": "code",
   "execution_count": null,
   "id": "7d26b338-5bbc-4573-9df6-72b7b877cdeb",
   "metadata": {},
   "outputs": [],
   "source": [
    "n = 5\n",
    "if n < 5:\n",
    "    print(\"n is less than five\")\n",
    "elif n == 5:\n",
    "    print(\"n is equal to five\")\n",
    "else:\n",
    "    print(\"n is greater than five\")\n"
   ]
  }
 ],
 "metadata": {
  "kernelspec": {
   "display_name": "Python 3 (ipykernel)",
   "language": "python",
   "name": "python3"
  },
  "language_info": {
   "codemirror_mode": {
    "name": "ipython",
    "version": 3
   },
   "file_extension": ".py",
   "mimetype": "text/x-python",
   "name": "python",
   "nbconvert_exporter": "python",
   "pygments_lexer": "ipython3",
   "version": "3.9.5"
  }
 },
 "nbformat": 4,
 "nbformat_minor": 5
}
