{
 "cells": [
  {
   "cell_type": "markdown",
   "id": "af8f6771",
   "metadata": {},
   "source": [
    "# Configure 3-Stage Clos Network"
   ]
  },
  {
   "cell_type": "markdown",
   "id": "09cb8a64",
   "metadata": {},
   "source": [
    "Modern cloud-scale data center networks require increased server-to-server communication over a network that stays resilient despite the rapid increase in the number of devices.\n",
    "\n",
    "The 3-stage Clos network is a robust IP-BGP underlay network that enables servers in a large-scale data center to communicate with each other with minimum latency. \n",
    "\n",
    "The following topology diagram depicts a 3-stage Clos network with two leaf routers in Tier-0 and two spine routers in Tier-1. This notebook shows you how to configure 3-stage Clos network on this topology.\n",
    "\n",
    "<br/><br/>\n",
    "\n",
    "<center><img src=\"./images/522559-2.jpg\" width=\"700\"/></center>\n",
    "\n",
    "<br/><br/>\n",
    "\n",
    "A 3-stage Clos network consists of data center network switches where each spine switch connects to all leaf switches. And each leaf switch connects to a rack of servers in the data-center. Any server in the data-center is just three hops away from another server. The first hop is from the server to the directly connected leaf switch, the second hop is across the spine switches to the destination leaf switch, and the third hop is between the destination leaf switch to the destination server. This network architecture is highly scalable. Also, irrespective of the number of devices in the data center, the hops between the servers (or the end-hosts) is always 3, ensuring consistent latency in the data-center network.\n",
    "\n",
    "Switches and routers can be used interchangeably in a 3-stage Clos network. This notebook demonstrates how to configure 3-Stage Clos Network using Cisco 8000 series routers that run SONiC. \n",
    "\n",
    "In this notebook:\n",
    "- The Cisco 8000 router variant 8102-64H are the Tier 1 routers - Spine0 (S0) and Spine1 (S1).\n",
    "- The Cisco 8000 router variant 8101-32H are the Tier 0 routers - Leaf0 (L0) and Leaf1 (L1).\n",
    "\n"
   ]
  },
  {
   "cell_type": "markdown",
   "id": "3b47302b",
   "metadata": {
    "tags": []
   },
   "source": [
    "As you read through this notebook, click the buttons in each section to send configuration commands to the devices in the simulated network as shown in the above topology diagram. This notebook walks you through the following sections to configure a 3 stage Clos network:\n",
    "* [Prerequistes](#prerequisites)\n",
    "* [Access Devices](#access-devices) \n",
    "* [Configure Host Names](#Configure-Host-Names)\n",
    "* [Assign IP-Addresses](#Assign-IP-Addresses)\n",
    "* [Configure eBGP](#Configure-eBGP)\n",
    "* [Send Traffic from TREX](#Send-Traffic-from-TREX)\n",
    "* [Verify Traffic Statistics](#Verify-Traffic-Statistics)\n",
    "* [Clean up Router Configurations](#Clean-up-Router-Configurations)\n",
    "\n",
    "\n",
    "### Prerequisites\n",
    "\n",
    "Before you begin with this notebook, reserve the Cisco 8000 SONiC Notebook sandbox and connect to the Sandbox VPN. Proceed to step 3 if you already have an active reservation for [Cisco 8000 SONiC Notebook](https://devnetsandbox.cisco.com/RM/Diagram/Index/219b721f-4116-4e47-adfa-c41ab540ca22?diagramType=Topology). \n",
    "\n",
    "1. To reserve the Cisco 8000 SONiC Notebook Sandbox, access [this link](https://devnetsandbox.cisco.com/RM/Diagram/Index/219b721f-4116-4e47-adfa-c41ab540ca22?diagramType=Topology) and click the **RESERVE** button on the top-right corner of the page. The setup takes 25–30 minutes.\n",
    "2. You receive the software VPN credentials via email when the Sandbox is ready.\n",
    "3. Enter the VPN credentials in the notebooks in this Learning Lab to connect to the Cisco 8000 Emulator on the Sandbox.\n",
    "\n",
    "For example:  \n",
    "\n",
    "```\n",
    "Enter the Lab Network Address provided in the Sandbox Lab email: devnetsandbox-reservation.cisco.com:nnnnn\n",
    "Enter the username provided in the Sandbox Lab email: xxxx\n",
    "Enter the password provided in the Sandbox Lab email: yyyyy\n",
    "\n",
    "(Click the Enter key on your keyboard after every entry)\n",
    "\n",
    "```\n"
   ]
  },
  {
   "cell_type": "code",
   "execution_count": null,
   "id": "61723e59",
   "metadata": {
    "run_button_label": "Enter VPN Credentials for Sandbox",
    "tags": []
   },
   "outputs": [],
   "source": [
    "import os\n",
    "os.environ['VPN_SERVER'] = input('Enter the Lab Network Address provided in the Sandbox Lab email: ')\n",
    "os.environ['VPN_USERNAME'] = input('Enter the username provided in the Sandbox Lab email: ')\n",
    "os.environ['VPN_PASSWORD'] = input('Enter the password provided in the Sandbox Lab email: ')"
   ]
  },
  {
   "cell_type": "markdown",
   "id": "e4b46540-3a07-4bc3-bfd8-1503c1671a7f",
   "metadata": {},
   "source": [
    "Click the following buttons to start a VPN connection to the Cisco 8000 SONiC Notebook Sandbox. You will not see any output after you click this button, because VPN access runs in the background. After clicking this button once, you can continue by clicking the next button."
   ]
  },
  {
   "cell_type": "code",
   "execution_count": 5,
   "id": "cd941a9a-9880-4e80-87a6-b21c7f113545",
   "metadata": {
    "run_button_label": "Connect to Sandbox VPN",
    "tags": []
   },
   "outputs": [],
   "source": [
    "%%bash --bg\n",
    "startvpn.sh"
   ]
  },
  {
   "cell_type": "markdown",
   "id": "7484b889-2738-40eb-bc2d-8af9616c130a",
   "metadata": {},
   "source": [
    "View the log details of the VPN connection."
   ]
  },
  {
   "cell_type": "code",
   "execution_count": null,
   "id": "b214ec04-09d9-4327-aad0-d853cc7ab0f1",
   "metadata": {
    "run_button_label": "Verify VPN Connection",
    "tags": []
   },
   "outputs": [],
   "source": [
    "!cat /var/log/openconnect/openconnect.log"
   ]
  },
  {
   "cell_type": "markdown",
   "id": "d65e6197",
   "metadata": {},
   "source": [
    "This Learning Lab is now connected to the Sandbox VPN. Click the buttons in the following sections to configure a 3-stage Clos network. \n",
    "\n",
    "> **Note**: To view or edit the code that executes when you click the buttons, click the hide-code toggle-button in the top panel of this notebook."
   ]
  },
  {
   "cell_type": "markdown",
   "id": "ce5443ba",
   "metadata": {
    "tags": [
     "remove_cell"
    ]
   },
   "source": [
    "### Access Devices\n",
    "Click the following button to access the SSH console of each of the 4 routers and traffic generator in the topology. "
   ]
  },
  {
   "cell_type": "code",
   "execution_count": null,
   "id": "f401c379-0608-4d44-95d2-8e073e3e2117",
   "metadata": {
    "run_button_label": "Access Devices",
    "tags": []
   },
   "outputs": [],
   "source": [
    "from lib.leaf_spine import *\n",
    "nodes = {\n",
    "         'S0':'', \n",
    "         'S1':'',\n",
    "         'L0':'', \n",
    "         'L1':'', \n",
    "         'trex':''\n",
    "        }\n",
    "tb = access_device_consoles(\"lib/leaf_spine.yaml\", nodes)"
   ]
  },
  {
   "cell_type": "markdown",
   "id": "e1250286",
   "metadata": {},
   "source": [
    "### Configure Host Names"
   ]
  },
  {
   "cell_type": "markdown",
   "id": "9d591d19",
   "metadata": {},
   "source": [
    "This section configures host names for the spine and leaf routers for easy identification.\n",
    "\n",
    "The following commands configures the host name and saves the configurations:\n",
    "```\n",
    "sudo config hostname <host-name>\n",
    "sudo config save -y\n",
    "```"
   ]
  },
  {
   "cell_type": "code",
   "execution_count": null,
   "id": "ca27f346",
   "metadata": {
    "run_button_label": "Configure Host-Names for Routers",
    "tags": []
   },
   "outputs": [],
   "source": [
    "out = nodes['S0'].execute('sudo config hostname SPINE0')\n",
    "out = nodes['S0'].execute('sudo config save -y')\n",
    "out = nodes['S1'].execute('sudo config hostname SPINE1')\n",
    "out = nodes['S1'].execute('sudo config save -y')\n",
    "out = nodes['L0'].execute('sudo config hostname LEAF0')\n",
    "out = nodes['L0'].execute('sudo config save -y')\n",
    "out = nodes['L1'].execute('sudo config hostname LEAF1')\n",
    "out = nodes['L1'].execute('sudo config save -y')"
   ]
  },
  {
   "cell_type": "markdown",
   "id": "5f36f96e",
   "metadata": {},
   "source": [
    "### Assign IP Addresses"
   ]
  },
  {
   "cell_type": "markdown",
   "id": "277466b9",
   "metadata": {},
   "source": [
    "This step assigns IPv4 addresses on the interfaces of the routers and traffic generator as per the topology diagram. \n",
    "\n",
    "The following commands configures IPv4 addresses on the router interfaces and displays the configured values:\n",
    "\n",
    "    sudo config interface ip add <interface> <IPv4 address> \n",
    "    show ip interfaces"
   ]
  },
  {
   "cell_type": "code",
   "execution_count": null,
   "id": "3027e82e",
   "metadata": {
    "run_button_label": "Assign IP Addresses on S0",
    "tags": []
   },
   "outputs": [],
   "source": [
    "print (\"\\n--- Configuring S0 ---\")\n",
    "out = nodes['S0'].execute('sudo config interface ip add Ethernet0 10.0.1.1/24')\n",
    "out = nodes['S0'].execute('sudo config interface ip add Ethernet8 10.0.2.1/24')\n",
    "out = nodes['S0'].execute('sudo config interface ip add Loopback0 10.10.10.100/32')\n",
    "out = nodes['S0'].execute('sudo config save -y')\n",
    "print (\"\\n--- Verify IP address on S0 ---\")\n",
    "out = nodes['S0'].execute('show ip interfaces')  "
   ]
  },
  {
   "cell_type": "code",
   "execution_count": null,
   "id": "d9623133-0b68-499c-9a85-1c0cdddcb92e",
   "metadata": {
    "run_button_label": "Assign IP Addresses on S1",
    "tags": []
   },
   "outputs": [],
   "source": [
    "print (\"\\n--- Configuring S1 ---\")\n",
    "out = nodes['S1'].execute('sudo config interface ip add Ethernet0 10.0.3.1/24')\n",
    "out = nodes['S1'].execute('sudo config interface ip add Ethernet8 10.0.4.1/24')\n",
    "out = nodes['S1'].execute('sudo config interface ip add Loopback0 10.10.11.100/32')\n",
    "out = nodes['S1'].execute('sudo config save -y')\n",
    "print (\"\\n--- Verify IP address on S1 ---\")\n",
    "out = nodes['S1'].execute('show ip interfaces') "
   ]
  },
  {
   "cell_type": "code",
   "execution_count": null,
   "id": "06369a11-2cd1-43ac-ab57-e0b4b72201ed",
   "metadata": {
    "run_button_label": "Assign IP Addresses on L0",
    "tags": []
   },
   "outputs": [],
   "source": [
    "print (\"\\n--- Configuring L0 ---\")\n",
    "out = nodes['L0'].execute('sudo config interface ip add Ethernet0 10.0.1.2/24')\n",
    "out = nodes['L0'].execute('sudo config interface ip add Ethernet12 10.0.3.2/24')\n",
    "out = nodes['L0'].execute('sudo config interface ip add Ethernet8 10.0.5.1/24')\n",
    "out = nodes['L0'].execute('sudo config interface ip add Loopback0 10.10.10.200/32')\n",
    "out = nodes['L0'].execute('sudo config save -y')\n",
    "print (\"\\n--- Verify IP address on L0 ---\")\n",
    "out = nodes['L0'].execute('show ip interfaces') "
   ]
  },
  {
   "cell_type": "code",
   "execution_count": null,
   "id": "615318e9-75fb-49e2-b9ad-591de9b9d4f1",
   "metadata": {
    "run_button_label": "Assign IP Addresses on L1",
    "tags": []
   },
   "outputs": [],
   "source": [
    "print (\"\\n--- Configuring L1 ---\")\n",
    "out = nodes['L1'].execute('sudo config interface ip add Ethernet12 10.0.2.2/24')\n",
    "out = nodes['L1'].execute('sudo config interface ip add Ethernet0 10.0.4.2/24')\n",
    "out = nodes['L1'].execute('sudo config interface ip add Ethernet8 10.0.6.1/24')\n",
    "out = nodes['L1'].execute('sudo config interface ip add Loopback0 10.10.11.200/32')\n",
    "out = nodes['L1'].execute('sudo config save -y')\n",
    "print (\"\\n--- Verify IP address on L1 ---\")\n",
    "out = nodes['L1'].execute('show ip interfaces') "
   ]
  },
  {
   "cell_type": "markdown",
   "id": "c8dc63c3-e24b-4f6a-b993-34465c89f706",
   "metadata": {},
   "source": [
    "The following commands configures IPv4 addresses on trex interfaces and displays the configured values:\n",
    "\n",
    "    ifconfig <interface> <ipv4-address> netmask <subnet-mask> up\n",
    "    ifconfig -a <interface>"
   ]
  },
  {
   "cell_type": "code",
   "execution_count": null,
   "id": "5e7a327d-f9fa-4ad9-a1b7-230dcfc32472",
   "metadata": {
    "run_button_label": "Assign IP Addresses on TREX",
    "tags": []
   },
   "outputs": [],
   "source": [
    "print (\"\\n--- Configuring TREX ---\")\n",
    "out = nodes['trex'].execute('ifconfig eth1 10.0.5.2 netmask 255.255.255.0 up')\n",
    "out = nodes['trex'].execute('ifconfig eth2 10.0.6.2 netmask 255.255.255.0 up')\n",
    "print (\"\\n--- Verify IP address on TREX ---\")\n",
    "out = nodes['trex'].execute('ifconfig -a eth1')\n",
    "out = nodes['trex'].execute('ifconfig -a eth2')"
   ]
  },
  {
   "cell_type": "markdown",
   "id": "9b259981",
   "metadata": {},
   "source": [
    "### Configure eBGP"
   ]
  },
  {
   "cell_type": "markdown",
   "id": "860c1952",
   "metadata": {},
   "source": [
    "The following section shows the eBGP (exterior Border Gateway Protocol) configuration on all spine and leaf routers. The spines are in Autonomous System (AS) 100 and the leaves in AS 200. \n",
    "\n",
    "The following commands configures eBGP on the router:\n",
    "```\n",
    "vtysh\n",
    "configure terminal\n",
    "router-id <router-id> \n",
    "router bgp <local AS>\n",
    "no bgp ebgp-requires-policy\n",
    "neighbor <neighbor-ip-address> remote-as <remote-AS>\n",
    "address-family ipv4 unicast\n",
    "neighbor <neighbor-ip-address> allowas-in\n",
    "network <network-address/subnet-mask>\n",
    "redistribute connected\n",
    "```\n",
    "\n",
    "Note the usage of the ```allowas-in``` option in the ```neighbor``` command. The default behaviour of BGP is to reject learning routes from own AS. The ```allowas-in``` option overrides this default behavior and the nodes learn routes from own AS. "
   ]
  },
  {
   "cell_type": "code",
   "execution_count": null,
   "id": "1966fa73",
   "metadata": {
    "run_button_label": "Configure eBGP on S0",
    "tags": []
   },
   "outputs": [],
   "source": [
    "print (\"\\n--- Configuring eBGP on S0 ---\")\n",
    "out = nodes['S0'].execute ('''vtysh \\\n",
    "-c 'configure terminal' \\\n",
    "-c 'router-id 10.10.10.100' \\\n",
    "-c 'router bgp 100' \\\n",
    "-c 'no bgp ebgp-requires-policy' \\\n",
    "-c 'neighbor 10.0.2.2 remote-as 200' \\\n",
    "-c 'neighbor 10.0.1.2 remote-as 200' \\\n",
    "-c 'address-family ipv4 unicast' \\\n",
    "-c 'neighbor 10.0.2.2 allowas-in' \\\n",
    "-c 'neighbor 10.0.1.2 allowas-in' \\\n",
    "-c 'network 10.0.1.0/24' \\\n",
    "-c 'network 10.0.2.0/24' \\\n",
    "-c 'network 10.10.10.100/32' \\\n",
    "-c 'redistribute connected'\n",
    "''')"
   ]
  },
  {
   "cell_type": "code",
   "execution_count": null,
   "id": "650cc559-c8b2-430e-bc99-91455eda4c10",
   "metadata": {
    "run_button_label": "Configure eBGP on S1",
    "tags": []
   },
   "outputs": [],
   "source": [
    "print (\"\\n--- Configuring eBGP on S1 ---\")\n",
    "out = nodes['S1'].execute ('''vtysh \\\n",
    "-c 'configure terminal' \\\n",
    "-c 'router-id 10.10.11.100' \\\n",
    "-c 'router bgp 100' \\\n",
    "-c 'no bgp ebgp-requires-policy' \\\n",
    "-c 'neighbor 10.0.3.2 remote-as 200' \\\n",
    "-c 'neighbor 10.0.4.2 remote-as 200' \\\n",
    "-c 'address-family ipv4 unicast' \\\n",
    "-c 'neighbor 10.0.3.2 allowas-in' \\\n",
    "-c 'neighbor 10.0.4.2 allowas-in' \\\n",
    "-c 'network 10.0.3.0/24' \\\n",
    "-c 'network 10.0.4.0/24' \\\n",
    "-c 'network 10.10.11.100/32' \\\n",
    "-c 'redistribute connected'\n",
    "''')"
   ]
  },
  {
   "cell_type": "code",
   "execution_count": null,
   "id": "1dc59144-4f31-465c-bd34-53318211736c",
   "metadata": {
    "run_button_label": "Configure eBGP on L0",
    "tags": []
   },
   "outputs": [],
   "source": [
    "print (\"\\n--- Configuring eBGP on L0 ---\")\n",
    "out = nodes['L0'].execute ('''vtysh \\\n",
    "-c 'configure terminal' \\\n",
    "-c 'router-id 10.10.10.200' \\\n",
    "-c 'router bgp 200' \\\n",
    "-c 'no bgp ebgp-requires-policy' \\\n",
    "-c 'neighbor 10.0.1.1 remote-as 100' \\\n",
    "-c 'neighbor 10.0.3.1 remote-as 100' \\\n",
    "-c 'address-family ipv4 unicast' \\\n",
    "-c 'neighbor 10.0.1.1 allowas-in' \\\n",
    "-c 'neighbor 10.0.3.1 allowas-in' \\\n",
    "-c 'network 10.0.1.0/24' \\\n",
    "-c 'network 10.0.3.0/24' \\\n",
    "-c 'network 10.0.5.0/24' \\\n",
    "-c 'network 10.10.10.200/32' \\\n",
    "-c 'redistribute connected'\n",
    "''')"
   ]
  },
  {
   "cell_type": "code",
   "execution_count": null,
   "id": "a2a90510-f397-43bd-9e87-249a22b0a3c5",
   "metadata": {
    "run_button_label": "Configure eBGP on L1",
    "tags": []
   },
   "outputs": [],
   "source": [
    "print (\"\\n--- Configuring eBGP on L1 ---\")\n",
    "out = nodes['L1'].execute ('''vtysh \\\n",
    "-c 'configure terminal' \\\n",
    "-c 'router-id 10.10.11.200' \\\n",
    "-c 'router bgp 200' \\\n",
    "-c 'no bgp ebgp-requires-policy' \\\n",
    "-c 'neighbor 10.0.2.1 remote-as 100' \\\n",
    "-c 'neighbor 10.0.4.1 remote-as 100' \\\n",
    "-c 'address-family ipv4 unicast' \\\n",
    "-c 'neighbor 10.0.2.1 allowas-in' \\\n",
    "-c 'neighbor 10.0.4.1 allowas-in' \\\n",
    "-c 'network 10.0.2.0/24' \\\n",
    "-c 'network 10.0.4.0/24' \\\n",
    "-c 'network 10.0.6.0/24' \\\n",
    "-c 'network 10.10.11.200/32' \\\n",
    "-c 'redistribute connected'\n",
    "''')"
   ]
  },
  {
   "cell_type": "markdown",
   "id": "e7f52701",
   "metadata": {},
   "source": [
    "Execute these commands on all routers to verify eBGP is up and routes are learnt:\n",
    "```\n",
    "show ip bgp\n",
    "show ip route\n",
    "```"
   ]
  },
  {
   "cell_type": "code",
   "execution_count": null,
   "id": "879b8d08",
   "metadata": {
    "run_button_label": "Verify eBGP on S0",
    "tags": []
   },
   "outputs": [],
   "source": [
    "out = nodes['S0'].execute('''vtysh \\\n",
    "                          -c 'show ip bgp' \\\n",
    "                          ''')\n",
    "out = nodes['S0'].execute('''vtysh \\\n",
    "                          -c 'show ip route' \\\n",
    "                          ''')"
   ]
  },
  {
   "cell_type": "code",
   "execution_count": null,
   "id": "defcc80e-2b49-439f-b98b-9dc573920fe3",
   "metadata": {
    "run_button_label": "Verify eBGP on S1",
    "tags": []
   },
   "outputs": [],
   "source": [
    "out = nodes['S1'].execute('''vtysh \\\n",
    "                          -c 'show ip bgp' \\\n",
    "                          ''')\n",
    "out = nodes['S1'].execute('''vtysh \\\n",
    "                          -c 'show ip route' \\\n",
    "                          ''')"
   ]
  },
  {
   "cell_type": "code",
   "execution_count": null,
   "id": "a2cb4fde-9485-4809-96bf-2c508b44c843",
   "metadata": {
    "run_button_label": "Verify eBGP on L0",
    "tags": []
   },
   "outputs": [],
   "source": [
    "out = nodes['L0'].execute('''vtysh \\\n",
    "                          -c 'show ip bgp' \\\n",
    "                          ''')\n",
    "out = nodes['L0'].execute('''vtysh \\\n",
    "                          -c 'show ip route' \\\n",
    "                          ''')"
   ]
  },
  {
   "cell_type": "code",
   "execution_count": null,
   "id": "53f72664-0c6c-4fba-9f94-141fdc63eaa1",
   "metadata": {
    "run_button_label": "Verify eBGP on L1",
    "tags": []
   },
   "outputs": [],
   "source": [
    "out = nodes['L1'].execute('''vtysh \\\n",
    "                          -c 'show ip bgp' \\\n",
    "                          ''')\n",
    "out = nodes['L1'].execute('''vtysh \\\n",
    "                          -c 'show ip route' \\\n",
    "                          ''')"
   ]
  },
  {
   "cell_type": "markdown",
   "id": "c025c213",
   "metadata": {},
   "source": [
    "Ping IP addresses on the LEAF0 (L0) router from the LEAF1 (L1) router and vice-versa using the command:\n",
    "```\n",
    "ping -c <count> <remote-ip-address>\n",
    "```\n"
   ]
  },
  {
   "cell_type": "code",
   "execution_count": null,
   "id": "dfd97da4",
   "metadata": {
    "run_button_label": "Ping Remote LEAF Router",
    "tags": []
   },
   "outputs": [],
   "source": [
    "\n",
    "print (\"\\n--- Pinging from L1 to L0 ---\")\n",
    "out = nodes['L1'].execute('ping -c5 10.0.5.1')\n",
    "print (\"\\n--- Pinging from L0 to L1 ---\")\n",
    "out = nodes['L0'].execute('ping -c5 10.0.6.1')\n"
   ]
  },
  {
   "cell_type": "markdown",
   "id": "03ea4eee",
   "metadata": {},
   "source": [
    "### Send Traffic from TREX"
   ]
  },
  {
   "cell_type": "markdown",
   "id": "ddc0757c",
   "metadata": {},
   "source": [
    "The code in this section generates a bidirectional traffic burst for 1 second by invoking the [TREX](https://trex-tgn.cisco.com/trex/doc/trex_manual.html#_introduction) software traffic generator. To simulate server-to-server traffic flow of a data center, the TREX software traffic generator injects traffic streams to LEAF0 and LEAF1. \n",
    "\n",
    "> Details of traffic stream injected into LEAF0 from TREX:\n",
    "> * Source IP address: 10.0.5.2\n",
    "> * Destination IP address: 10.0.6.2\n",
    "\n",
    "> Details of traffic stream injected into LEAF1 from TREX:\n",
    "> * Source IP address: 10.0.6.2\n",
    "> * Destination IP address: 10.0.5.2\n",
    "\n",
    "<br/><br/>\n",
    "\n",
    "<center><img src=\"./images/3clos-traffic.png\" width=\"700\"/></center>\n",
    "\n",
    "<br/><br/>\n",
    "\n",
    "After code execution, check ```Total-tx-pkt``` and ```Total-rx-pkt``` in the ```summary stats``` at the end of the output to ensure that there is no traffic loss."
   ]
  },
  {
   "cell_type": "code",
   "execution_count": null,
   "id": "94197f93",
   "metadata": {
    "run_button_label": "Start Traffic",
    "tags": []
   },
   "outputs": [],
   "source": [
    "trex_ipaddress = str(nodes['trex'].connections.cli.ip)\n",
    "trex_port = str(nodes['trex'].connections.cli.port)\n",
    "\n",
    "generate_bidir_traffic(trex_ipaddress, trex_port)"
   ]
  },
  {
   "cell_type": "markdown",
   "id": "9814fea2",
   "metadata": {},
   "source": [
    "### Verify Traffic Statistics"
   ]
  },
  {
   "cell_type": "markdown",
   "id": "5514c5f9",
   "metadata": {},
   "source": [
    "Check the interface counters on the nodes to ensure that there is no traffic drop using the command:\n",
    "```\n",
    "show interface counters rif\n",
    "```"
   ]
  },
  {
   "cell_type": "code",
   "execution_count": null,
   "id": "1190a645",
   "metadata": {
    "run_button_label": "Verify Traffic Statistics",
    "tags": []
   },
   "outputs": [],
   "source": [
    "for n in nodes:\n",
    "   if (n != 'trex'):\n",
    "      out = nodes[n].execute('show interface counters rif')"
   ]
  },
  {
   "cell_type": "markdown",
   "id": "827e1086",
   "metadata": {},
   "source": [
    "You have now successfully brought up a simple 3-stage Clos network. This forms the IP-BGP underlay for your data center network. "
   ]
  },
  {
   "cell_type": "markdown",
   "id": "5f61b71a-6a15-48d4-bea4-3840820023b4",
   "metadata": {
    "tags": [
     "remove_cell"
    ]
   },
   "source": [
    "### Clean up Router Configurations"
   ]
  },
  {
   "cell_type": "markdown",
   "id": "c6e64b34-61bf-47de-b1b7-98b4d9fe818b",
   "metadata": {
    "tags": [
     "remove_cell"
    ]
   },
   "source": [
    "Clean up configurations on the router so that you can play other notebooks.\n",
    "```\n",
    "# Deletes IP address configured on the router interface\n",
    "sudo config interface ip remove <interface> <ip-address>\n",
    "\n",
    "# Cleans the configuration database on the router\n",
    "sudo rm /etc/sonic/config_db.json\n",
    "\n",
    "# Release the trex ports\n",
    "cd /opt/cisco/trex/latest/\n",
    "sudo ./dpdk_nic_bind.py --force -u <port>\n",
    "sudo ./dpdk_nic_bind.py --bind=virtio-pci <port>\n",
    "```"
   ]
  },
  {
   "cell_type": "code",
   "execution_count": null,
   "id": "3607e945-ab73-4715-9896-bed0f3b10932",
   "metadata": {
    "run_button_label": "Clean Up Configurations",
    "tags": []
   },
   "outputs": [],
   "source": [
    "# Remove the Router configs \n",
    "out = nodes['S0'].execute('sudo config interface ip remove Ethernet0 10.0.1.1/24')\n",
    "out = nodes['S0'].execute('sudo config interface ip remove Ethernet8 10.0.2.1/24')\n",
    "out = nodes['S0'].execute('sudo config interface ip remove Loopback0 10.10.10.100/32')\n",
    "out = nodes['S1'].execute('sudo config interface ip remove Ethernet0 10.0.3.1/24')\n",
    "out = nodes['S1'].execute('sudo config interface ip remove Ethernet8 10.0.4.1/24')\n",
    "out = nodes['S1'].execute('sudo config interface ip remove Loopback0 10.10.11.100/32')\n",
    "out = nodes['L0'].execute('sudo config interface ip remove Ethernet0 10.0.1.2/24')\n",
    "out = nodes['L0'].execute('sudo config interface ip remove Ethernet12 10.0.3.2/24')\n",
    "out = nodes['L0'].execute('sudo config interface ip remove Ethernet8 10.0.5.1/24')\n",
    "out = nodes['L0'].execute('sudo config interface ip remove Loopback0 10.10.10.200/32')\n",
    "out = nodes['L1'].execute('sudo config interface ip remove Ethernet12 10.0.2.2/24')\n",
    "out = nodes['L1'].execute('sudo config interface ip remove Ethernet0 10.0.4.2/24')\n",
    "out = nodes['L1'].execute('sudo config interface ip remove Ethernet8 10.0.6.1/24')\n",
    "out = nodes['L1'].execute('sudo config interface ip remove Loopback0 10.10.11.200/32')\n",
    "\n",
    "\n",
    "for n in nodes:\n",
    "   if (n != 'trex'):\n",
    "      print(\"cfg cleaned\")\n",
    "      out = nodes[n].execute('sudo rm /etc/sonic/config_db.json')\n",
    "   else:\n",
    "      # Release the trex ports\n",
    "      out = nodes[n].execute('cd /opt/cisco/trex/latest/')\n",
    "      out = nodes[n].execute('sudo ./dpdk_nic_bind.py --force -u 00:04.0')\n",
    "      out = nodes[n].execute('sudo ./dpdk_nic_bind.py --force -u 00:05.0')\n",
    "      out = nodes[n].execute('sudo ./dpdk_nic_bind.py --bind=virtio-pci 00:04.0')\n",
    "      out = nodes[n].execute('sudo ./dpdk_nic_bind.py --bind=virtio-pci 00:05.0')"
   ]
  },
  {
   "cell_type": "markdown",
   "id": "7559284a-826f-4412-b96a-8e8d4802520b",
   "metadata": {},
   "source": [
    "Disconnect from Sandbox VPN if you are not continuing with the other notebooks in this lab."
   ]
  },
  {
   "cell_type": "code",
   "execution_count": null,
   "id": "83d99a08-55b6-4797-a26a-1934713c71fd",
   "metadata": {
    "run_button_label": "Disconnect from Sandbox VPN",
    "tags": []
   },
   "outputs": [],
   "source": [
    "!sudo kill -9 `pgrep openconnect`"
   ]
  },
  {
   "cell_type": "markdown",
   "id": "ce18e42a",
   "metadata": {},
   "source": [
    "> Let us know your feedback or queries about this notebook at mig-notebooks@cisco.com."
   ]
  }
 ],
 "metadata": {
  "kernelspec": {
   "display_name": "Python 3 (ipykernel)",
   "language": "python",
   "name": "python3"
  },
  "language_info": {
   "codemirror_mode": {
    "name": "ipython",
    "version": 3
   },
   "file_extension": ".py",
   "mimetype": "text/x-python",
   "name": "python",
   "nbconvert_exporter": "python",
   "pygments_lexer": "ipython3",
   "version": "3.10.9"
  },
  "toc-autonumbering": false,
  "toc-showcode": false,
  "toc-showmarkdowntxt": false,
  "widgets": {
   "application/vnd.jupyter.widget-state+json": {
    "state": {},
    "version_major": 2,
    "version_minor": 0
   }
  }
 },
 "nbformat": 4,
 "nbformat_minor": 5
}
