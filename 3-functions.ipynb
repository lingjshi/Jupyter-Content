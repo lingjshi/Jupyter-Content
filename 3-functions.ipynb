{
 "cells": [
  {
   "cell_type": "markdown",
   "id": "26ad8545-6f17-4d38-89e0-01711b640b29",
   "metadata": {},
   "source": [
    "# Functions\n",
    "\n",
    "_\"Don't Repeat Yourself (DRY)\"_\n",
    "\n",
    "Find yourself writing blocks of identical or nearly identical code in several places throughout your script (or in several of your scripts)? It's time to create a **function**. Functions let you write a piece of code once, give it a name, and then call that piece of code whenever you need it. They can (optionally) accept input arguments and return an output allowing you to create operations that take some input(s) and return some output according to your needs.\n",
    "\n",
    "_**Python function syntax:**_\n",
    "\n",
    "```python\n",
    "def function_name(arg_1, arg_2):\n",
    "    statements...\n",
    "    return value\n",
    "```\n",
    "\n",
    "> **Again indentation is important!**\n",
    "\n",
    "You use the `def` keyword to define a function, and you must follow the same rules when naming functions as you do when naming variables:\n",
    "\n",
    "* Cannot start with a number [0-9]\n",
    "* Cannot conflict with a language keyword\n",
    "* Can contain: [A-Za-z0-9_-]\n",
    "\n",
    "> Recommendations for naming (variables, classes, functions, etc.) can be found in [PEP8](https://www.python.org/dev/peps/pep-0008/).\n",
    "\n",
    "When defining a function, arguments are variable names that you create.  Later on when you call your function, you will pass in values for each of the arguments and these values will be assigned to the variable names you defined.  These variables can be used within the body of your function to do as you need to carry out the purpose of your function.\n",
    "\n",
    "Your function may optionally `return` some value.\n",
    "\n",
    "_Example:_"
   ]
  },
  {
   "cell_type": "code",
   "execution_count": null,
   "id": "44560f0b-e0e3-4ab0-adea-9d3be97f200e",
   "metadata": {},
   "outputs": [],
   "source": [
    "def add(num1, num2):\n",
    "    result = num1 + num2\n",
    "    return result\n",
    "\n",
    "add(3, 5)"
   ]
  },
  {
   "cell_type": "markdown",
   "id": "b3543428-717a-42b1-8234-4d2ed72de732",
   "metadata": {},
   "source": [
    "> **Note:** _Defining_ a function (`def`) only \"creates\" it for later use. Your  function's code doesn't actually run until you call it (see the `add()` example above). No addition was performed until we called the add function and supplied values for its arguments with the `add(3, 5)` statement. You typically define a function once and then call it many times; passing in arguments and getting outputs each time.\n",
    "\n",
    "A function doesn't have to have any arguments or return any values. You could simply be calling a function to do some predefined set of actions."
   ]
  },
  {
   "cell_type": "code",
   "execution_count": null,
   "id": "16080522-b21e-4e96-b1d5-abcc3992af93",
   "metadata": {},
   "outputs": [],
   "source": [
    "def say_hello():\n",
    "    print(\"Hello!\")\n",
    "say_hello()"
   ]
  },
  {
   "cell_type": "markdown",
   "id": "4c3bd85e-6b2a-4d8e-8f05-adcb770ac841",
   "metadata": {},
   "source": [
    "> **Note:** A function implicitly returns `None` if it reaches the end of the function's block of statements. `None` is a special Python _singleton_ value. It essentially means \"no value.\" `None` is the closest thing Python has to a `null` value that is present in some other languages."
   ]
  }
 ],
 "metadata": {
  "kernelspec": {
   "display_name": "Python 3 (ipykernel)",
   "language": "python",
   "name": "python3"
  },
  "language_info": {
   "codemirror_mode": {
    "name": "ipython",
    "version": 3
   },
   "file_extension": ".py",
   "mimetype": "text/x-python",
   "name": "python",
   "nbconvert_exporter": "python",
   "pygments_lexer": "ipython3",
   "version": "3.9.5"
  }
 },
 "nbformat": 4,
 "nbformat_minor": 5
}
